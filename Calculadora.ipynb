{
  "nbformat": 4,
  "nbformat_minor": 0,
  "metadata": {
    "colab": {
      "provenance": []
    },
    "kernelspec": {
      "name": "python3",
      "display_name": "Python 3"
    },
    "language_info": {
      "name": "python"
    }
  },
  "cells": [
    {
      "cell_type": "code",
      "execution_count": 2,
      "metadata": {
        "colab": {
          "base_uri": "https://localhost:8080/"
        },
        "id": "3rgV04cnIsxC",
        "outputId": "4b12c689-b5cc-4894-b94a-f8c04ff219d1"
      },
      "outputs": [
        {
          "output_type": "stream",
          "name": "stdout",
          "text": [
            "Selecione a operação desejada\n",
            "1. Adição\n",
            "2.Subtração\n",
            "3. Multiplicação\n",
            "4. Divisão\n",
            "digite o numero de operação desejada(1/2/3/4): 10\n",
            "Digite o primeiro numero1\n",
            "Digite o segundo numero0\n",
            "Opção Invalida. Por favor, escolha uma opção valida\n"
          ]
        }
      ],
      "source": [
        "print(\"Selecione a operação desejada\")\n",
        "print(\"1. Adição\")\n",
        "print(\"2.Subtração\")\n",
        "print(\"3. Multiplicação\")\n",
        "print(\"4. Divisão\")\n",
        "\n",
        "opcao = input(\"digite o numero de operação desejada(1/2/3/4): \")\n",
        "\n",
        "numero1 = float(input(\"Digite o primeiro numero\"))\n",
        "numero2 = float(input(\"Digite o segundo numero\"))\n",
        "\n",
        "if opcao == '1':\n",
        "  resultado = numero1 + numero2\n",
        "  print(\"Resultado\", resultado)\n",
        "elif opcao == '2':\n",
        "  resultado = numero1 - numero2\n",
        "  print('Resultado', resultado)\n",
        "elif opcao == '3':\n",
        "  resultado = numero1 * numero2\n",
        "  print('Resultado', resultado)\n",
        "elif opcao == '4':\n",
        "  if numero2 !=0:\n",
        "    resultado = numero1 / numero2\n",
        "    print('Resultado', resultado)\n",
        "  else:\n",
        "    print('Erro: Divisão por zero')\n",
        "else:\n",
        "  print('Opção Invalida. Por favor, escolha uma opção valida')"
      ]
    },
    {
      "cell_type": "code",
      "source": [],
      "metadata": {
        "id": "yBu8GqERI125"
      },
      "execution_count": null,
      "outputs": []
    }
  ]
}